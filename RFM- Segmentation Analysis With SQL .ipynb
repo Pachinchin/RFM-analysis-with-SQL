{
 "cells": [
  {
   "cell_type": "code",
   "execution_count": 1,
   "id": "74c1d124",
   "metadata": {
    "ExecuteTime": {
     "end_time": "2021-11-25T12:40:02.111903Z",
     "start_time": "2021-11-25T12:40:01.623894Z"
    }
   },
   "outputs": [],
   "source": [
    "#importing dependencies\n",
    "import      pandas as pd\n",
    "import      sqlite3\n",
    "import      csv\n",
    "from        sqlite3 import Error"
   ]
  },
  {
   "cell_type": "markdown",
   "id": "41cffd4f",
   "metadata": {
    "ExecuteTime": {
     "end_time": "2021-11-25T08:45:22.693397Z",
     "start_time": "2021-11-25T08:45:22.690399Z"
    }
   },
   "source": [
    "## DB Connection"
   ]
  },
  {
   "cell_type": "code",
   "execution_count": 2,
   "id": "de15c87c",
   "metadata": {
    "ExecuteTime": {
     "end_time": "2021-11-25T12:40:02.120728Z",
     "start_time": "2021-11-25T12:40:02.114020Z"
    }
   },
   "outputs": [],
   "source": [
    "def create_connection(path):\n",
    "    '''\n",
    "    This function creats a connection with sqlite\n",
    "    '''\n",
    "    connection =None\n",
    "    try: \n",
    "        connection = sqlite3.connect(path)\n",
    "        print(\"connection to SQLite DB succesful\")\n",
    "    except Error as e:\n",
    "        print(f\"The error '{e}' occured\")\n",
    "    return connection\n",
    "\n",
    "#When executing a query\n",
    "def execute_query(connection, query):\n",
    "    '''\n",
    "    This function will excecute a query passed into it \n",
    "    '''\n",
    "    cursor = connection.cursor()\n",
    "    try:\n",
    "        cursor.execute(query)\n",
    "        connection.commit()\n",
    "        print(\"Query executed successfully\")\n",
    "    except Error as e:\n",
    "        print(f\"The error '{e}' occurred\")\n",
    "\n",
    "#Upload a file into a db\n",
    "def execute_many_query(connection, query, file):\n",
    "    '''\n",
    "    When inserting multiple values in form of rows in a db\n",
    "    '''\n",
    "    cursor = connection.cursor()\n",
    "    rows = csv.reader(open(file),delimiter=';')\n",
    "    try:\n",
    "        cursor.executemany(query,rows)\n",
    "        connection.commit()\n",
    "        print(\"Query executed successfully\")\n",
    "    except Error as e:\n",
    "        print(f\"The error '{e}' occurred\")\n",
    "\n",
    "#read query\n",
    "def execute_read_query(connection, query):\n",
    "    '''\n",
    "    Read the table function with a query\n",
    "    '''\n",
    "    cursor = connection.cursor()\n",
    "    result = None\n",
    "    try:\n",
    "        cursor.execute(query)\n",
    "        result = cursor.fetchall()\n",
    "        return result\n",
    "    except Error as e:\n",
    "        print(f\"The error '{e}' occurred\")\n",
    "\n"
   ]
  },
  {
   "cell_type": "code",
   "execution_count": 3,
   "id": "eda0dbfc",
   "metadata": {
    "ExecuteTime": {
     "end_time": "2021-11-25T12:40:02.126094Z",
     "start_time": "2021-11-25T12:40:02.122635Z"
    }
   },
   "outputs": [
    {
     "name": "stdout",
     "output_type": "stream",
     "text": [
      "connection to SQLite DB succesful\n"
     ]
    }
   ],
   "source": [
    "connection = create_connection(\"E:\\\\sm_app.sqlite\")"
   ]
  },
  {
   "cell_type": "code",
   "execution_count": 4,
   "id": "4e664f21",
   "metadata": {
    "ExecuteTime": {
     "end_time": "2021-11-25T12:40:02.132954Z",
     "start_time": "2021-11-25T12:40:02.129060Z"
    }
   },
   "outputs": [
    {
     "name": "stdout",
     "output_type": "stream",
     "text": [
      "Query executed successfully\n"
     ]
    }
   ],
   "source": [
    "##create prices table query\n",
    "create_sales_table = \"\"\"\n",
    "CREATE TABLE IF NOT EXISTS sales (\n",
    "  InvoiceNo INT,\n",
    "  StockCode NONE,\n",
    "  Description TEXT,\n",
    "  Quantity INT, \n",
    "  InvoiceDate NUMERIC, \n",
    "  Price REAL,\n",
    "  CustomerID INT,\n",
    "  Country TEXT\n",
    ") \n",
    "\"\"\"\n",
    "execute_query(connection, create_sales_table)"
   ]
  },
  {
   "cell_type": "markdown",
   "id": "8c6d0abb",
   "metadata": {
    "ExecuteTime": {
     "end_time": "2021-11-25T12:38:49.670173Z",
     "start_time": "2021-11-25T12:38:49.667272Z"
    }
   },
   "source": [
    "## Load the Raw data to the DB "
   ]
  },
  {
   "cell_type": "code",
   "execution_count": 5,
   "id": "9edea8b7",
   "metadata": {
    "ExecuteTime": {
     "end_time": "2021-11-25T12:40:03.689163Z",
     "start_time": "2021-11-25T12:40:02.134662Z"
    }
   },
   "outputs": [
    {
     "name": "stdout",
     "output_type": "stream",
     "text": [
      "Query executed successfully\n"
     ]
    }
   ],
   "source": [
    "execute_many_query(connection,\"INSERT INTO sales (InvoiceNo,StockCode,Description,Quantity,InvoiceDate,Price,CustomerID,Country) VALUES(?,?,?,?,?,?,?,?)\", \"online_retail.csv\")"
   ]
  },
  {
   "cell_type": "markdown",
   "id": "c34329ae",
   "metadata": {},
   "source": [
    "## Extraction and Segmentation"
   ]
  },
  {
   "cell_type": "code",
   "execution_count": 6,
   "id": "0c362be6",
   "metadata": {
    "ExecuteTime": {
     "end_time": "2021-11-25T12:40:03.697738Z",
     "start_time": "2021-11-25T12:40:03.693835Z"
    }
   },
   "outputs": [],
   "source": [
    "# The query for cohorts \n",
    "cohort_query = \"\"\"\n",
    "SELECT CustomerID,max(Recency) Recency,max(Frequency) Frequency,max(Monetary) Monetary from \n",
    "(SELECT CustomerID, ntile(4) over (ORDER BY max(InvoiceDate) asc) Recency,null Frequency ,null Monetary FROM sales group by CustomerID\n",
    "UNION ALL \n",
    "SELECT CustomerID, null,ntile(4) over (ORDER BY count(InvoiceDate) asc) Frequency,null Monetary FROM sales\n",
    "GROUP BY CustomerID\n",
    "UNION ALL\n",
    "SELECT CustomerID, null,null,ntile(4) over (ORDER BY sum(Quantity*Price) asc) Monetary FROM sales\n",
    "GROUP BY CustomerID\n",
    ")GROUP BY CustomerID\n",
    "ORDER BY Recency,Frequency,Monetary\n",
    "\"\"\"\n",
    "\n"
   ]
  },
  {
   "cell_type": "code",
   "execution_count": 7,
   "id": "6f02462d",
   "metadata": {
    "ExecuteTime": {
     "end_time": "2021-11-25T12:40:03.707786Z",
     "start_time": "2021-11-25T12:40:03.701355Z"
    }
   },
   "outputs": [],
   "source": [
    "def analyse_segment(query):\n",
    "    '''\n",
    "    This func Extracts the data and Segments them'''\n",
    "    #Extract the data formt he Db \n",
    "    extract_= execute_read_query(connection, query)\n",
    "    ext_list=[]\n",
    "    for record in extract_:\n",
    "         ext_list.append(record)\n",
    "    df =pd.DataFrame(ext_list)\n",
    "    \n",
    "    # Change the column names\n",
    "    df.set_axis(['CustomerId', 'Recency', 'Frequency', 'Monetary'], axis=1, inplace=True)\n",
    "    df['Score']=df.iloc[:,1:4].sum(axis=1)\n",
    "    \n",
    "    # Group the scores into Loyalty levels\n",
    "    loyalty = ['Bronze', 'Silver', 'Gold', 'Platinum']\n",
    "    df['Loyalty_Level'] = pd.qcut(df['Score'], q=4, labels= loyalty)\n",
    "    df.sort_values(by='Score', ascending=False,inplace=True)\n",
    "    return df"
   ]
  },
  {
   "cell_type": "code",
   "execution_count": 8,
   "id": "b82b8d0b",
   "metadata": {
    "ExecuteTime": {
     "end_time": "2021-11-25T12:40:10.992548Z",
     "start_time": "2021-11-25T12:40:03.710446Z"
    }
   },
   "outputs": [
    {
     "data": {
      "text/html": [
       "<div>\n",
       "<style scoped>\n",
       "    .dataframe tbody tr th:only-of-type {\n",
       "        vertical-align: middle;\n",
       "    }\n",
       "\n",
       "    .dataframe tbody tr th {\n",
       "        vertical-align: top;\n",
       "    }\n",
       "\n",
       "    .dataframe thead th {\n",
       "        text-align: right;\n",
       "    }\n",
       "</style>\n",
       "<table border=\"1\" class=\"dataframe\">\n",
       "  <thead>\n",
       "    <tr style=\"text-align: right;\">\n",
       "      <th></th>\n",
       "      <th>CustomerId</th>\n",
       "      <th>Recency</th>\n",
       "      <th>Frequency</th>\n",
       "      <th>Monetary</th>\n",
       "      <th>Score</th>\n",
       "      <th>Loyalty_Level</th>\n",
       "    </tr>\n",
       "  </thead>\n",
       "  <tbody>\n",
       "    <tr>\n",
       "      <th>4373</th>\n",
       "      <td></td>\n",
       "      <td>4</td>\n",
       "      <td>4</td>\n",
       "      <td>4</td>\n",
       "      <td>12</td>\n",
       "      <td>Platinum</td>\n",
       "    </tr>\n",
       "    <tr>\n",
       "      <th>4088</th>\n",
       "      <td>14191</td>\n",
       "      <td>4</td>\n",
       "      <td>4</td>\n",
       "      <td>4</td>\n",
       "      <td>12</td>\n",
       "      <td>Platinum</td>\n",
       "    </tr>\n",
       "    <tr>\n",
       "      <th>4077</th>\n",
       "      <td>14099</td>\n",
       "      <td>4</td>\n",
       "      <td>4</td>\n",
       "      <td>4</td>\n",
       "      <td>12</td>\n",
       "      <td>Platinum</td>\n",
       "    </tr>\n",
       "    <tr>\n",
       "      <th>4078</th>\n",
       "      <td>14110</td>\n",
       "      <td>4</td>\n",
       "      <td>4</td>\n",
       "      <td>4</td>\n",
       "      <td>12</td>\n",
       "      <td>Platinum</td>\n",
       "    </tr>\n",
       "    <tr>\n",
       "      <th>4079</th>\n",
       "      <td>14112</td>\n",
       "      <td>4</td>\n",
       "      <td>4</td>\n",
       "      <td>4</td>\n",
       "      <td>12</td>\n",
       "      <td>Platinum</td>\n",
       "    </tr>\n",
       "    <tr>\n",
       "      <th>...</th>\n",
       "      <td>...</td>\n",
       "      <td>...</td>\n",
       "      <td>...</td>\n",
       "      <td>...</td>\n",
       "      <td>...</td>\n",
       "      <td>...</td>\n",
       "    </tr>\n",
       "    <tr>\n",
       "      <th>219</th>\n",
       "      <td>16405</td>\n",
       "      <td>1</td>\n",
       "      <td>1</td>\n",
       "      <td>1</td>\n",
       "      <td>3</td>\n",
       "      <td>Bronze</td>\n",
       "    </tr>\n",
       "    <tr>\n",
       "      <th>220</th>\n",
       "      <td>16424</td>\n",
       "      <td>1</td>\n",
       "      <td>1</td>\n",
       "      <td>1</td>\n",
       "      <td>3</td>\n",
       "      <td>Bronze</td>\n",
       "    </tr>\n",
       "    <tr>\n",
       "      <th>221</th>\n",
       "      <td>16432</td>\n",
       "      <td>1</td>\n",
       "      <td>1</td>\n",
       "      <td>1</td>\n",
       "      <td>3</td>\n",
       "      <td>Bronze</td>\n",
       "    </tr>\n",
       "    <tr>\n",
       "      <th>222</th>\n",
       "      <td>16450</td>\n",
       "      <td>1</td>\n",
       "      <td>1</td>\n",
       "      <td>1</td>\n",
       "      <td>3</td>\n",
       "      <td>Bronze</td>\n",
       "    </tr>\n",
       "    <tr>\n",
       "      <th>0</th>\n",
       "      <td>12367</td>\n",
       "      <td>1</td>\n",
       "      <td>1</td>\n",
       "      <td>1</td>\n",
       "      <td>3</td>\n",
       "      <td>Bronze</td>\n",
       "    </tr>\n",
       "  </tbody>\n",
       "</table>\n",
       "<p>4374 rows × 6 columns</p>\n",
       "</div>"
      ],
      "text/plain": [
       "     CustomerId  Recency  Frequency  Monetary  Score Loyalty_Level\n",
       "4373                   4          4         4     12      Platinum\n",
       "4088      14191        4          4         4     12      Platinum\n",
       "4077      14099        4          4         4     12      Platinum\n",
       "4078      14110        4          4         4     12      Platinum\n",
       "4079      14112        4          4         4     12      Platinum\n",
       "...         ...      ...        ...       ...    ...           ...\n",
       "219       16405        1          1         1      3        Bronze\n",
       "220       16424        1          1         1      3        Bronze\n",
       "221       16432        1          1         1      3        Bronze\n",
       "222       16450        1          1         1      3        Bronze\n",
       "0         12367        1          1         1      3        Bronze\n",
       "\n",
       "[4374 rows x 6 columns]"
      ]
     },
     "execution_count": 8,
     "metadata": {},
     "output_type": "execute_result"
    }
   ],
   "source": [
    "analyse_segment(cohort_query)"
   ]
  },
  {
   "cell_type": "code",
   "execution_count": 9,
   "id": "16a79bf6",
   "metadata": {
    "ExecuteTime": {
     "end_time": "2021-11-25T12:40:10.997343Z",
     "start_time": "2021-11-25T12:40:10.994926Z"
    }
   },
   "outputs": [],
   "source": [
    "#select_users = \"DROP TABLE sales\"\n",
    "#select_users = \"DELETE FROM trivcase1\"\n",
    "#execute_read_query(connection, select_users)"
   ]
  },
  {
   "cell_type": "code",
   "execution_count": null,
   "id": "a4032351",
   "metadata": {},
   "outputs": [],
   "source": []
  }
 ],
 "metadata": {
  "kernelspec": {
   "display_name": "Python 3 (ipykernel)",
   "language": "python",
   "name": "python3"
  },
  "language_info": {
   "codemirror_mode": {
    "name": "ipython",
    "version": 3
   },
   "file_extension": ".py",
   "mimetype": "text/x-python",
   "name": "python",
   "nbconvert_exporter": "python",
   "pygments_lexer": "ipython3",
   "version": "3.8.12"
  }
 },
 "nbformat": 4,
 "nbformat_minor": 5
}
